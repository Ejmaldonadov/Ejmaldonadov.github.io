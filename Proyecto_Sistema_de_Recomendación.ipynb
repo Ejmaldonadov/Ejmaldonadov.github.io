{
  "nbformat": 4,
  "nbformat_minor": 0,
  "metadata": {
    "colab": {
      "provenance": [],
      "authorship_tag": "ABX9TyNwSo+hHIvOZ0Eu0su3ZXHo",
      "include_colab_link": true
    },
    "kernelspec": {
      "name": "python3",
      "display_name": "Python 3"
    },
    "language_info": {
      "name": "python"
    }
  },
  "cells": [
    {
      "cell_type": "markdown",
      "metadata": {
        "id": "view-in-github",
        "colab_type": "text"
      },
      "source": [
        "<a href=\"https://colab.research.google.com/github/Ejmaldonadov/Ejmaldonadov.github.io/blob/main/Proyecto_Sistema_de_Recomendaci%C3%B3n.ipynb\" target=\"_parent\"><img src=\"https://colab.research.google.com/assets/colab-badge.svg\" alt=\"Open In Colab\"/></a>"
      ]
    },
    {
      "cell_type": "code",
      "execution_count": 5,
      "metadata": {
        "colab": {
          "base_uri": "https://localhost:8080/"
        },
        "id": "DzH35nRDo8IO",
        "outputId": "abbb2bbb-3ab7-4285-da69-6d26da3e7ef4"
      },
      "outputs": [
        {
          "output_type": "stream",
          "name": "stdout",
          "text": [
            "  Usuario Contenido  Calificacion\n",
            "0      U1        C6             3\n",
            "1      U1        C8             4\n",
            "2      U1        C7             2\n",
            "3      U1        C2             3\n",
            "4      U1        C4             2\n",
            "-----------------------\n",
            "Contenido   C1  C10   C2   C3   C4   C5   C6   C7   C8  C9\n",
            "Usuario                                                   \n",
            "U1         NaN  NaN  3.0  NaN  2.0  3.0  3.0  2.0  4.0 NaN\n",
            "U10        5.0  NaN  5.0  4.0  NaN  5.0  2.0  3.0  2.0 NaN\n",
            "U11        NaN  NaN  5.0  2.0  NaN  NaN  NaN  NaN  4.0 NaN\n",
            "U12        1.0  2.0  1.0  NaN  5.0  NaN  NaN  1.0  2.0 NaN\n",
            "U13        NaN  NaN  3.0  5.0  2.0  NaN  2.0  NaN  4.0 NaN\n",
            "-----------------------\n",
            "Usuario        U1       U10       U11       U12       U13\n",
            "Usuario                                                  \n",
            "U1       1.000000  0.673710  0.647098  0.536774  0.643530\n",
            "U10      0.673710  1.000000  0.588120  0.272638  0.593843\n",
            "U11      0.647098  0.588120  1.000000  0.322988  0.802534\n",
            "U12      0.536774  0.272638  0.322988  1.000000  0.459573\n",
            "U13      0.643530  0.593843  0.802534  0.459573  1.000000\n",
            "---------------------------\n",
            "Recomendaciones para U33\n",
            "C5: 3.72\n",
            "C9: 3.49\n",
            "C10: 3.48\n",
            "C4: 3.16\n",
            "C7: 2.54\n"
          ]
        }
      ],
      "source": [
        "import pandas as pd\n",
        "import random\n",
        "\n",
        "# Configuración\n",
        "usuarios = [f\"U{i+1}\" for i in range(50)]\n",
        "contenidos = [f\"C{i+1}\" for i in range(10)]\n",
        "datos = []\n",
        "\n",
        "# Generar calificaciones aleatorias (pero no todos califican todo)\n",
        "for usuario in usuarios:\n",
        "    contenidos_calificados = random.sample(contenidos, k=random.randint(3, 7))  # Cada usuario califica entre 3 y 7 contenidos\n",
        "    for contenido in contenidos_calificados:\n",
        "        calificacion = random.randint(1, 5)\n",
        "        datos.append({'Usuario': usuario, 'Contenido': contenido, 'Calificacion': calificacion})\n",
        "\n",
        "# Crear DataFrame\n",
        "df = pd.DataFrame(datos)\n",
        "\n",
        "# Mostrar los primeros datos\n",
        "print(df.head())\n",
        "\n",
        "print(\"-----------------------\")\n",
        "# Crear la matriz de usuario–contenido\n",
        "matriz = df.pivot_table(index='Usuario', columns='Contenido', values='Calificacion')\n",
        "\n",
        "# Mostrar las primeras filas\n",
        "print(matriz.head())\n",
        "\n",
        "print(\"-----------------------\")\n",
        "from sklearn.metrics.pairwise import cosine_similarity\n",
        "\n",
        "# Rellenar valores NaN con 0 para poder calcular similitud\n",
        "matriz_usuarios = matriz.fillna(0)\n",
        "\n",
        "# Calcular la similitud del coseno entre usuarios\n",
        "similitud = cosine_similarity(matriz_usuarios)\n",
        "\n",
        "# Crear DataFrame con la matriz de similitud\n",
        "similitud_df = pd.DataFrame(similitud, index=matriz_usuarios.index, columns=matriz_usuarios.index)\n",
        "\n",
        "# Mostrar una parte de la matriz\n",
        "print(similitud_df.iloc[:5, :5])  # Solo una muestra\n",
        "\n",
        "print(\"---------------------------\")\n",
        "# Escoger usuario objetivo\n",
        "usuario_objetivo = 'U33'\n",
        "\n",
        "# Obtener las calificaciones del usuario y sus similitudes\n",
        "calificaciones_usuario = matriz.loc[usuario_objetivo]\n",
        "similitudes = similitud_df[usuario_objetivo]\n",
        "\n",
        "# Calcular predicciones para contenidos no calificados\n",
        "predicciones = {}\n",
        "\n",
        "for contenido in matriz.columns:\n",
        "    if pd.isna(calificaciones_usuario[contenido]):\n",
        "        calificaciones_contenido = matriz[contenido]\n",
        "\n",
        "        numerador = 0\n",
        "        denominador = 0\n",
        "\n",
        "        for otro_usuario in matriz.index:\n",
        "            if otro_usuario != usuario_objetivo and not pd.isna(calificaciones_contenido[otro_usuario]):\n",
        "                sim = similitudes[otro_usuario]\n",
        "                calif = calificaciones_contenido[otro_usuario]\n",
        "                numerador += sim * calif\n",
        "                denominador += sim\n",
        "\n",
        "        if denominador != 0:\n",
        "            prediccion = numerador / denominador\n",
        "            predicciones[contenido] = prediccion\n",
        "\n",
        "# Ordenar recomendaciones\n",
        "recomendaciones = sorted(predicciones.items(), key=lambda x: x[1], reverse=True)\n",
        "\n",
        "# Mostrar las recomendaciones\n",
        "print(f\"Recomendaciones para {usuario_objetivo}\")\n",
        "for contenido, score in recomendaciones:\n",
        "    print(f\"{contenido}: {score:.2f}\")\n"
      ]
    }
  ]
}